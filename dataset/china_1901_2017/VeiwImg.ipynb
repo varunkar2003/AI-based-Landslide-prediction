{
 "cells": [
  {
   "cell_type": "markdown",
   "metadata": {},
   "source": [
    "TO DISPLAY THE PARAMETERS OF THE FILE"
   ]
  },
  {
   "cell_type": "code",
   "execution_count": 2,
   "metadata": {},
   "outputs": [
    {
     "name": "stdout",
     "output_type": "stream",
     "text": [
      "<xarray.Dataset> Size: 5GB\n",
      "Dimensions:  (lon: 7680, lat: 4717, time: 36)\n",
      "Coordinates:\n",
      "  * lon      (lon) float64 61kB 72.2 72.21 72.22 72.23 ... 136.2 136.2 136.2\n",
      "  * lat      (lat) float64 38kB 55.55 55.55 55.54 55.53 ... 16.27 16.26 16.25\n",
      "  * time     (time) float64 288B 1.0 2.0 3.0 4.0 5.0 ... 33.0 34.0 35.0 36.0\n",
      "Data variables:\n",
      "    pre      (time, lat, lon) float32 5GB ...\n"
     ]
    }
   ],
   "source": [
    "import xarray as xr\n",
    "\n",
    "# Correct the file path\n",
    "file_path = r\"D:\\Downloads\\pre_1901_1903\\pre_1901_1903.nc\"\n",
    "\n",
    "# Load the NetCDF file using the netCDF4 engine\n",
    "ds = xr.open_dataset(file_path, engine='netcdf4')\n",
    "\n",
    "# Display the contents of the dataset\n",
    "print(ds)\n"
   ]
  }
 ],
 "metadata": {
  "kernelspec": {
   "display_name": "Python 3",
   "language": "python",
   "name": "python3"
  },
  "language_info": {
   "codemirror_mode": {
    "name": "ipython",
    "version": 3
   },
   "file_extension": ".py",
   "mimetype": "text/x-python",
   "name": "python",
   "nbconvert_exporter": "python",
   "pygments_lexer": "ipython3",
   "version": "3.10.4"
  }
 },
 "nbformat": 4,
 "nbformat_minor": 2
}

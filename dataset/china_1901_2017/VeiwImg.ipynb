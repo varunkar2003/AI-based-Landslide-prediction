{
 "cells": [
  {
   "cell_type": "markdown",
   "metadata": {},
   "source": [
    "TO DISPLAY THE PARAMETERS OF THE FILE"
   ]
  },
  {
   "cell_type": "code",
   "execution_count": 3,
   "metadata": {},
   "outputs": [
    {
     "name": "stdout",
     "output_type": "stream",
     "text": [
      "<xarray.Dataset> Size: 5GB\n",
      "Dimensions:  (lon: 7680, lat: 4717, time: 36)\n",
      "Coordinates:\n",
      "  * lon      (lon) float64 61kB 72.2 72.21 72.22 72.23 ... 136.2 136.2 136.2\n",
      "  * lat      (lat) float64 38kB 55.55 55.55 55.54 55.53 ... 16.27 16.26 16.25\n",
      "  * time     (time) float64 288B 1.0 2.0 3.0 4.0 5.0 ... 33.0 34.0 35.0 36.0\n",
      "Data variables:\n",
      "    pre      (time, lat, lon) float32 5GB ...\n"
     ]
    }
   ],
   "source": [
    "import xarray as xr\n",
    "\n",
    "# Correct the file path\n",
    "file_path = r\"D:\\Downloads\\pre_1901_1903\\pre_1901_1903.nc\"\n",
    "\n",
    "# Load the NetCDF file using the netCDF4 engine\n",
    "ds = xr.open_dataset(file_path, engine='netcdf4')\n",
    "\n",
    "# Display the contents of the dataset\n",
    "print(ds)\n"
   ]
  },
  {
   "cell_type": "code",
   "execution_count": 4,
   "metadata": {},
   "outputs": [
    {
     "name": "stdout",
     "output_type": "stream",
     "text": [
      "Frozen({'lon': <xarray.IndexVariable 'lon' (lon: 7680)> Size: 61kB\n",
      "array([ 72.200212,  72.208545,  72.216878, ..., 136.175212, 136.183545,\n",
      "       136.191878])\n",
      "Attributes:\n",
      "    long_name:  longitude\n",
      "    unit:       degree, 'lat': <xarray.IndexVariable 'lat' (lat: 4717)> Size: 38kB\n",
      "array([55.554628, 55.546294, 55.537961, ..., 16.271294, 16.262961, 16.254628])\n",
      "Attributes:\n",
      "    long_name:  latitude\n",
      "    unit:       degree, 'time': <xarray.IndexVariable 'time' (time: 36)> Size: 288B\n",
      "array([ 1.,  2.,  3.,  4.,  5.,  6.,  7.,  8.,  9., 10., 11., 12., 13., 14.,\n",
      "       15., 16., 17., 18., 19., 20., 21., 22., 23., 24., 25., 26., 27., 28.,\n",
      "       29., 30., 31., 32., 33., 34., 35., 36.])\n",
      "Attributes:\n",
      "    long_name:  1901.1-1903.12, 'pre': <xarray.Variable (time: 36, lat: 4717, lon: 7680)> Size: 5GB\n",
      "[1304156160 values with dtype=float32]\n",
      "Attributes:\n",
      "    unit:       0.1 mm\n",
      "    long_name:  monthly precipitation})\n"
     ]
    }
   ],
   "source": [
    "print(ds.variables)\n"
   ]
  },
  {
   "cell_type": "code",
   "execution_count": 6,
   "metadata": {},
   "outputs": [
    {
     "name": "stdout",
     "output_type": "stream",
     "text": [
      "<xarray.Dataset> Size: 5GB\n",
      "Dimensions:  (lon: 7680, lat: 4717, time: 36)\n",
      "Coordinates:\n",
      "  * lon      (lon) float64 61kB 72.2 72.21 72.22 72.23 ... 136.2 136.2 136.2\n",
      "  * lat      (lat) float64 38kB 55.55 55.55 55.54 55.53 ... 16.27 16.26 16.25\n",
      "  * time     (time) float64 288B 1.0 2.0 3.0 4.0 5.0 ... 33.0 34.0 35.0 36.0\n",
      "Data variables:\n",
      "    pre      (time, lat, lon) float32 5GB ...\n"
     ]
    }
   ],
   "source": [
    "print(ds)"
   ]
  }
 ],
 "metadata": {
  "kernelspec": {
   "display_name": "Python 3",
   "language": "python",
   "name": "python3"
  },
  "language_info": {
   "codemirror_mode": {
    "name": "ipython",
    "version": 3
   },
   "file_extension": ".py",
   "mimetype": "text/x-python",
   "name": "python",
   "nbconvert_exporter": "python",
   "pygments_lexer": "ipython3",
   "version": "3.10.4"
  }
 },
 "nbformat": 4,
 "nbformat_minor": 2
}
